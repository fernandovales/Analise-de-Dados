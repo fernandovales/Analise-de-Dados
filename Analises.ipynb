{
 "cells": [
  {
   "cell_type": "markdown",
   "metadata": {},
   "source": [
    "## - Mini Projeto de Análise de Dados\n",
    "\n",
    "\n",
    "\n",
    "### O que temos?\n",
    "\n",
    "Temos os dados de 2019 de uma empresa de prestação de serviços. \n",
    "\n",
    "    * CadastroFuncionarios.csv\n",
    "    * CadastroClientes.csv\n",
    "    * BaseServiçosPrestados.xlsx\n",
    "   \n"
   ]
  },
  {
   "cell_type": "markdown",
   "metadata": {},
   "source": [
    "### Importando módulos e arquivos"
   ]
  },
  {
   "cell_type": "code",
   "execution_count": null,
   "metadata": {},
   "outputs": [],
   "source": [
    "import pandas as pd\n",
    "\n",
    "#ler os arquivos \n",
    "funcionarios_df = pd.read_csv('CadastroFuncionarios.csv',sep=';',decimal=',')\n",
    "clientes_df = pd.read_csv('CadastroClientes.csv',sep=';')\n",
    "servicos_df = pd.read_excel('BaseServiçosPrestados.xlsx')\n",
    "\n",
    "#mostrar dataframes\n",
    "display(funcionarios_df)\n",
    "display(clientes_df)\n",
    "display(servicos_df)"
   ]
  },
  {
   "cell_type": "markdown",
   "metadata": {},
   "source": [
    "### 01 - Valor total da Folha Salarial"
   ]
  },
  {
   "cell_type": "code",
   "execution_count": null,
   "metadata": {},
   "outputs": [],
   "source": [
    "#01 - valor total da folha salarial\n",
    "funcionarios_df['salario total'] = (\n",
    "    funcionarios_df['Salario Base'] + \n",
    "    funcionarios_df['Impostos']+\n",
    "    funcionarios_df['Beneficios'] +\n",
    "    funcionarios_df['VT']+\n",
    "    funcionarios_df['VR'])\n",
    "\n",
    "total_folha_salarial = funcionarios_df[\"salario total\"].sum()\n",
    "print(f'total da folha salarial da empresa {total_folha_salarial:,}')"
   ]
  },
  {
   "cell_type": "markdown",
   "metadata": {},
   "source": [
    "### 02 - Qual foi o faturamento da empresa?"
   ]
  },
  {
   "cell_type": "code",
   "execution_count": null,
   "metadata": {},
   "outputs": [],
   "source": [
    "servicos_e_cliente_df = clientes_df.merge(servicos_df,on='ID Cliente')\n",
    "\n",
    "faturamento = sum(servicos_e_cliente_df[\"Valor Contrato Mensal\"] *servicos_e_cliente_df['Tempo Total de Contrato (Meses)'])\n",
    "print(f'O Faturamento total da empresa foi de R$ {faturamento:,}')"
   ]
  },
  {
   "cell_type": "markdown",
   "metadata": {},
   "source": [
    "### 03 - Qual o % de funcionários que já fechou algum contrato?"
   ]
  },
  {
   "cell_type": "code",
   "execution_count": null,
   "metadata": {},
   "outputs": [],
   "source": [
    "qtde_funcionarios_fecharam = len(servicos_df['ID Funcionário'].unique())\n",
    "qtde_funcionarios_totais = len(funcionarios_df['ID Funcionário'])\n",
    "print('Percentual foi de {:.2%}'.format(qtde_funcionarios_fecharam / qtde_funcionarios_totais))"
   ]
  },
  {
   "cell_type": "markdown",
   "metadata": {},
   "source": [
    "### 04 - Qual o  total de contratos que cada área da empresa já fechou?"
   ]
  },
  {
   "cell_type": "code",
   "execution_count": null,
   "metadata": {},
   "outputs": [],
   "source": [
    "funcionario_e_contratos_df = funcionarios_df.merge(servicos_df,on='ID Funcionário')\n",
    "total_contratos_area = funcionario_e_contratos_df['Area'].value_counts()\n",
    "\n",
    "print(total_contratos_area)\n",
    "total_contratos_area.plot(kind='bar')"
   ]
  },
  {
   "cell_type": "markdown",
   "metadata": {},
   "source": [
    "### 05 - Calcule o total de funcionários por área"
   ]
  },
  {
   "cell_type": "code",
   "execution_count": null,
   "metadata": {},
   "outputs": [],
   "source": [
    "qtde_funcionarios_area = funcionarios_df['Area'].value_counts()\n",
    "print(qtde_funcionarios_area)\n",
    "\n",
    "qtde_funcionarios_area.plot(kind='bar')"
   ]
  },
  {
   "cell_type": "markdown",
   "metadata": {},
   "source": [
    "### 06 - Qual o ticket médio mensal  dos contratos?"
   ]
  },
  {
   "cell_type": "code",
   "execution_count": null,
   "metadata": {},
   "outputs": [],
   "source": [
    "ticket_medio = clientes_df['Valor Contrato Mensal'].mean()\n",
    "print(f'O ticket médio mensal é de R${ticket_medio:,.2f}')"
   ]
  }
 ],
 "metadata": {
  "kernelspec": {
   "display_name": "Python 3 (ipykernel)",
   "language": "python",
   "name": "python3"
  },
  "language_info": {
   "codemirror_mode": {
    "name": "ipython",
    "version": 3
   },
   "file_extension": ".py",
   "mimetype": "text/x-python",
   "name": "python",
   "nbconvert_exporter": "python",
   "pygments_lexer": "ipython3",
   "version": "3.11.5"
  }
 },
 "nbformat": 4,
 "nbformat_minor": 4
}
